{
  "cells": [
    {
      "cell_type": "markdown",
      "metadata": {
        "id": "SXvv0AZWzzzv"
      },
      "source": [
        "**Product Recommendation System**"
      ]
    },
    {
      "cell_type": "markdown",
      "metadata": {
        "id": "unpeO2vEto2W"
      },
      "source": [
        "**Import Packages**"
      ]
    },
    {
      "cell_type": "code",
      "execution_count": null,
      "metadata": {
        "id": "PLPAu7yFtysg"
      },
      "outputs": [],
      "source": [
        "import pandas as pd"
      ]
    },
    {
      "cell_type": "markdown",
      "metadata": {
        "id": "vuEbPzcRt3Bl"
      },
      "source": [
        "**Upload CSV/Excel File**"
      ]
    },
    {
      "cell_type": "code",
      "execution_count": null,
      "metadata": {
        "collapsed": true,
        "id": "lXLJvG5kt0sB"
      },
      "outputs": [],
      "source": [
        "df = pd.read_excel(\"OnlineRetail.xlsx\")"
      ]
    },
    {
      "cell_type": "code",
      "execution_count": null,
      "metadata": {
        "colab": {
          "base_uri": "https://localhost:8080/",
          "height": 466
        },
        "collapsed": true,
        "id": "eMU28ALLvCeD",
        "outputId": "81dfbae1-49b4-4582-b2e7-b64524d62109"
      },
      "outputs": [
        {
          "output_type": "stream",
          "name": "stdout",
          "text": [
            "<class 'pandas.core.frame.DataFrame'>\n",
            "RangeIndex: 541909 entries, 0 to 541908\n",
            "Data columns (total 8 columns):\n",
            " #   Column       Non-Null Count   Dtype         \n",
            "---  ------       --------------   -----         \n",
            " 0   InvoiceNo    541909 non-null  object        \n",
            " 1   StockCode    541909 non-null  object        \n",
            " 2   Description  540455 non-null  object        \n",
            " 3   Quantity     541909 non-null  int64         \n",
            " 4   InvoiceDate  541909 non-null  datetime64[ns]\n",
            " 5   UnitPrice    541909 non-null  float64       \n",
            " 6   CustomerID   406829 non-null  float64       \n",
            " 7   Country      541909 non-null  object        \n",
            "dtypes: datetime64[ns](1), float64(2), int64(1), object(4)\n",
            "memory usage: 33.1+ MB\n"
          ]
        },
        {
          "output_type": "execute_result",
          "data": {
            "text/plain": [
              "  InvoiceNo StockCode                          Description  Quantity  \\\n",
              "0    536365    85123A   WHITE HANGING HEART T-LIGHT HOLDER         6   \n",
              "1    536365     71053                  WHITE METAL LANTERN         6   \n",
              "2    536365    84406B       CREAM CUPID HEARTS COAT HANGER         8   \n",
              "3    536365    84029G  KNITTED UNION FLAG HOT WATER BOTTLE         6   \n",
              "4    536365    84029E       RED WOOLLY HOTTIE WHITE HEART.         6   \n",
              "\n",
              "          InvoiceDate  UnitPrice  CustomerID         Country  \n",
              "0 2010-12-01 08:26:00       2.55     17850.0  United Kingdom  \n",
              "1 2010-12-01 08:26:00       3.39     17850.0  United Kingdom  \n",
              "2 2010-12-01 08:26:00       2.75     17850.0  United Kingdom  \n",
              "3 2010-12-01 08:26:00       3.39     17850.0  United Kingdom  \n",
              "4 2010-12-01 08:26:00       3.39     17850.0  United Kingdom  "
            ],
            "text/html": [
              "\n",
              "  <div id=\"df-8a82b5b5-c470-4660-bcf4-561322380407\" class=\"colab-df-container\">\n",
              "    <div>\n",
              "<style scoped>\n",
              "    .dataframe tbody tr th:only-of-type {\n",
              "        vertical-align: middle;\n",
              "    }\n",
              "\n",
              "    .dataframe tbody tr th {\n",
              "        vertical-align: top;\n",
              "    }\n",
              "\n",
              "    .dataframe thead th {\n",
              "        text-align: right;\n",
              "    }\n",
              "</style>\n",
              "<table border=\"1\" class=\"dataframe\">\n",
              "  <thead>\n",
              "    <tr style=\"text-align: right;\">\n",
              "      <th></th>\n",
              "      <th>InvoiceNo</th>\n",
              "      <th>StockCode</th>\n",
              "      <th>Description</th>\n",
              "      <th>Quantity</th>\n",
              "      <th>InvoiceDate</th>\n",
              "      <th>UnitPrice</th>\n",
              "      <th>CustomerID</th>\n",
              "      <th>Country</th>\n",
              "    </tr>\n",
              "  </thead>\n",
              "  <tbody>\n",
              "    <tr>\n",
              "      <th>0</th>\n",
              "      <td>536365</td>\n",
              "      <td>85123A</td>\n",
              "      <td>WHITE HANGING HEART T-LIGHT HOLDER</td>\n",
              "      <td>6</td>\n",
              "      <td>2010-12-01 08:26:00</td>\n",
              "      <td>2.55</td>\n",
              "      <td>17850.0</td>\n",
              "      <td>United Kingdom</td>\n",
              "    </tr>\n",
              "    <tr>\n",
              "      <th>1</th>\n",
              "      <td>536365</td>\n",
              "      <td>71053</td>\n",
              "      <td>WHITE METAL LANTERN</td>\n",
              "      <td>6</td>\n",
              "      <td>2010-12-01 08:26:00</td>\n",
              "      <td>3.39</td>\n",
              "      <td>17850.0</td>\n",
              "      <td>United Kingdom</td>\n",
              "    </tr>\n",
              "    <tr>\n",
              "      <th>2</th>\n",
              "      <td>536365</td>\n",
              "      <td>84406B</td>\n",
              "      <td>CREAM CUPID HEARTS COAT HANGER</td>\n",
              "      <td>8</td>\n",
              "      <td>2010-12-01 08:26:00</td>\n",
              "      <td>2.75</td>\n",
              "      <td>17850.0</td>\n",
              "      <td>United Kingdom</td>\n",
              "    </tr>\n",
              "    <tr>\n",
              "      <th>3</th>\n",
              "      <td>536365</td>\n",
              "      <td>84029G</td>\n",
              "      <td>KNITTED UNION FLAG HOT WATER BOTTLE</td>\n",
              "      <td>6</td>\n",
              "      <td>2010-12-01 08:26:00</td>\n",
              "      <td>3.39</td>\n",
              "      <td>17850.0</td>\n",
              "      <td>United Kingdom</td>\n",
              "    </tr>\n",
              "    <tr>\n",
              "      <th>4</th>\n",
              "      <td>536365</td>\n",
              "      <td>84029E</td>\n",
              "      <td>RED WOOLLY HOTTIE WHITE HEART.</td>\n",
              "      <td>6</td>\n",
              "      <td>2010-12-01 08:26:00</td>\n",
              "      <td>3.39</td>\n",
              "      <td>17850.0</td>\n",
              "      <td>United Kingdom</td>\n",
              "    </tr>\n",
              "  </tbody>\n",
              "</table>\n",
              "</div>\n",
              "    <div class=\"colab-df-buttons\">\n",
              "\n",
              "  <div class=\"colab-df-container\">\n",
              "    <button class=\"colab-df-convert\" onclick=\"convertToInteractive('df-8a82b5b5-c470-4660-bcf4-561322380407')\"\n",
              "            title=\"Convert this dataframe to an interactive table.\"\n",
              "            style=\"display:none;\">\n",
              "\n",
              "  <svg xmlns=\"http://www.w3.org/2000/svg\" height=\"24px\" viewBox=\"0 -960 960 960\">\n",
              "    <path d=\"M120-120v-720h720v720H120Zm60-500h600v-160H180v160Zm220 220h160v-160H400v160Zm0 220h160v-160H400v160ZM180-400h160v-160H180v160Zm440 0h160v-160H620v160ZM180-180h160v-160H180v160Zm440 0h160v-160H620v160Z\"/>\n",
              "  </svg>\n",
              "    </button>\n",
              "\n",
              "  <style>\n",
              "    .colab-df-container {\n",
              "      display:flex;\n",
              "      gap: 12px;\n",
              "    }\n",
              "\n",
              "    .colab-df-convert {\n",
              "      background-color: #E8F0FE;\n",
              "      border: none;\n",
              "      border-radius: 50%;\n",
              "      cursor: pointer;\n",
              "      display: none;\n",
              "      fill: #1967D2;\n",
              "      height: 32px;\n",
              "      padding: 0 0 0 0;\n",
              "      width: 32px;\n",
              "    }\n",
              "\n",
              "    .colab-df-convert:hover {\n",
              "      background-color: #E2EBFA;\n",
              "      box-shadow: 0px 1px 2px rgba(60, 64, 67, 0.3), 0px 1px 3px 1px rgba(60, 64, 67, 0.15);\n",
              "      fill: #174EA6;\n",
              "    }\n",
              "\n",
              "    .colab-df-buttons div {\n",
              "      margin-bottom: 4px;\n",
              "    }\n",
              "\n",
              "    [theme=dark] .colab-df-convert {\n",
              "      background-color: #3B4455;\n",
              "      fill: #D2E3FC;\n",
              "    }\n",
              "\n",
              "    [theme=dark] .colab-df-convert:hover {\n",
              "      background-color: #434B5C;\n",
              "      box-shadow: 0px 1px 3px 1px rgba(0, 0, 0, 0.15);\n",
              "      filter: drop-shadow(0px 1px 2px rgba(0, 0, 0, 0.3));\n",
              "      fill: #FFFFFF;\n",
              "    }\n",
              "  </style>\n",
              "\n",
              "    <script>\n",
              "      const buttonEl =\n",
              "        document.querySelector('#df-8a82b5b5-c470-4660-bcf4-561322380407 button.colab-df-convert');\n",
              "      buttonEl.style.display =\n",
              "        google.colab.kernel.accessAllowed ? 'block' : 'none';\n",
              "\n",
              "      async function convertToInteractive(key) {\n",
              "        const element = document.querySelector('#df-8a82b5b5-c470-4660-bcf4-561322380407');\n",
              "        const dataTable =\n",
              "          await google.colab.kernel.invokeFunction('convertToInteractive',\n",
              "                                                    [key], {});\n",
              "        if (!dataTable) return;\n",
              "\n",
              "        const docLinkHtml = 'Like what you see? Visit the ' +\n",
              "          '<a target=\"_blank\" href=https://colab.research.google.com/notebooks/data_table.ipynb>data table notebook</a>'\n",
              "          + ' to learn more about interactive tables.';\n",
              "        element.innerHTML = '';\n",
              "        dataTable['output_type'] = 'display_data';\n",
              "        await google.colab.output.renderOutput(dataTable, element);\n",
              "        const docLink = document.createElement('div');\n",
              "        docLink.innerHTML = docLinkHtml;\n",
              "        element.appendChild(docLink);\n",
              "      }\n",
              "    </script>\n",
              "  </div>\n",
              "\n",
              "\n",
              "<div id=\"df-ea7c728f-e3dd-4c4b-a695-f303cfa05b60\">\n",
              "  <button class=\"colab-df-quickchart\" onclick=\"quickchart('df-ea7c728f-e3dd-4c4b-a695-f303cfa05b60')\"\n",
              "            title=\"Suggest charts\"\n",
              "            style=\"display:none;\">\n",
              "\n",
              "<svg xmlns=\"http://www.w3.org/2000/svg\" height=\"24px\"viewBox=\"0 0 24 24\"\n",
              "     width=\"24px\">\n",
              "    <g>\n",
              "        <path d=\"M19 3H5c-1.1 0-2 .9-2 2v14c0 1.1.9 2 2 2h14c1.1 0 2-.9 2-2V5c0-1.1-.9-2-2-2zM9 17H7v-7h2v7zm4 0h-2V7h2v10zm4 0h-2v-4h2v4z\"/>\n",
              "    </g>\n",
              "</svg>\n",
              "  </button>\n",
              "\n",
              "<style>\n",
              "  .colab-df-quickchart {\n",
              "      --bg-color: #E8F0FE;\n",
              "      --fill-color: #1967D2;\n",
              "      --hover-bg-color: #E2EBFA;\n",
              "      --hover-fill-color: #174EA6;\n",
              "      --disabled-fill-color: #AAA;\n",
              "      --disabled-bg-color: #DDD;\n",
              "  }\n",
              "\n",
              "  [theme=dark] .colab-df-quickchart {\n",
              "      --bg-color: #3B4455;\n",
              "      --fill-color: #D2E3FC;\n",
              "      --hover-bg-color: #434B5C;\n",
              "      --hover-fill-color: #FFFFFF;\n",
              "      --disabled-bg-color: #3B4455;\n",
              "      --disabled-fill-color: #666;\n",
              "  }\n",
              "\n",
              "  .colab-df-quickchart {\n",
              "    background-color: var(--bg-color);\n",
              "    border: none;\n",
              "    border-radius: 50%;\n",
              "    cursor: pointer;\n",
              "    display: none;\n",
              "    fill: var(--fill-color);\n",
              "    height: 32px;\n",
              "    padding: 0;\n",
              "    width: 32px;\n",
              "  }\n",
              "\n",
              "  .colab-df-quickchart:hover {\n",
              "    background-color: var(--hover-bg-color);\n",
              "    box-shadow: 0 1px 2px rgba(60, 64, 67, 0.3), 0 1px 3px 1px rgba(60, 64, 67, 0.15);\n",
              "    fill: var(--button-hover-fill-color);\n",
              "  }\n",
              "\n",
              "  .colab-df-quickchart-complete:disabled,\n",
              "  .colab-df-quickchart-complete:disabled:hover {\n",
              "    background-color: var(--disabled-bg-color);\n",
              "    fill: var(--disabled-fill-color);\n",
              "    box-shadow: none;\n",
              "  }\n",
              "\n",
              "  .colab-df-spinner {\n",
              "    border: 2px solid var(--fill-color);\n",
              "    border-color: transparent;\n",
              "    border-bottom-color: var(--fill-color);\n",
              "    animation:\n",
              "      spin 1s steps(1) infinite;\n",
              "  }\n",
              "\n",
              "  @keyframes spin {\n",
              "    0% {\n",
              "      border-color: transparent;\n",
              "      border-bottom-color: var(--fill-color);\n",
              "      border-left-color: var(--fill-color);\n",
              "    }\n",
              "    20% {\n",
              "      border-color: transparent;\n",
              "      border-left-color: var(--fill-color);\n",
              "      border-top-color: var(--fill-color);\n",
              "    }\n",
              "    30% {\n",
              "      border-color: transparent;\n",
              "      border-left-color: var(--fill-color);\n",
              "      border-top-color: var(--fill-color);\n",
              "      border-right-color: var(--fill-color);\n",
              "    }\n",
              "    40% {\n",
              "      border-color: transparent;\n",
              "      border-right-color: var(--fill-color);\n",
              "      border-top-color: var(--fill-color);\n",
              "    }\n",
              "    60% {\n",
              "      border-color: transparent;\n",
              "      border-right-color: var(--fill-color);\n",
              "    }\n",
              "    80% {\n",
              "      border-color: transparent;\n",
              "      border-right-color: var(--fill-color);\n",
              "      border-bottom-color: var(--fill-color);\n",
              "    }\n",
              "    90% {\n",
              "      border-color: transparent;\n",
              "      border-bottom-color: var(--fill-color);\n",
              "    }\n",
              "  }\n",
              "</style>\n",
              "\n",
              "  <script>\n",
              "    async function quickchart(key) {\n",
              "      const quickchartButtonEl =\n",
              "        document.querySelector('#' + key + ' button');\n",
              "      quickchartButtonEl.disabled = true;  // To prevent multiple clicks.\n",
              "      quickchartButtonEl.classList.add('colab-df-spinner');\n",
              "      try {\n",
              "        const charts = await google.colab.kernel.invokeFunction(\n",
              "            'suggestCharts', [key], {});\n",
              "      } catch (error) {\n",
              "        console.error('Error during call to suggestCharts:', error);\n",
              "      }\n",
              "      quickchartButtonEl.classList.remove('colab-df-spinner');\n",
              "      quickchartButtonEl.classList.add('colab-df-quickchart-complete');\n",
              "    }\n",
              "    (() => {\n",
              "      let quickchartButtonEl =\n",
              "        document.querySelector('#df-ea7c728f-e3dd-4c4b-a695-f303cfa05b60 button');\n",
              "      quickchartButtonEl.style.display =\n",
              "        google.colab.kernel.accessAllowed ? 'block' : 'none';\n",
              "    })();\n",
              "  </script>\n",
              "</div>\n",
              "\n",
              "    </div>\n",
              "  </div>\n"
            ],
            "application/vnd.google.colaboratory.intrinsic+json": {
              "type": "dataframe",
              "variable_name": "df"
            }
          },
          "metadata": {},
          "execution_count": 6
        }
      ],
      "source": [
        "df.info()\n",
        "df.head(5)"
      ]
    },
    {
      "cell_type": "markdown",
      "metadata": {
        "id": "MqH27_kMu1kM"
      },
      "source": [
        "**Data Cleaning**\n",
        "\n",
        "**Removing Null Value**"
      ]
    },
    {
      "cell_type": "code",
      "execution_count": null,
      "metadata": {
        "id": "coicjypOv984"
      },
      "outputs": [],
      "source": [
        "df.dropna(subset=[\"CustomerID\"],inplace = True)\n",
        "df['InvoiceDate'] = pd.to_datetime(df['InvoiceDate'])\n",
        "df['Description'] = df['Description'].str.strip()\n",
        "df['Country'] = df['Country'].str.strip().str.lower()\n",
        "df = df[df['Quantity']>0]\n",
        "df = df[df['UnitPrice']>0]"
      ]
    },
    {
      "cell_type": "code",
      "execution_count": null,
      "metadata": {
        "colab": {
          "base_uri": "https://localhost:8080/",
          "height": 335
        },
        "collapsed": true,
        "id": "C0tifxG_1VgX",
        "outputId": "8b3153fd-447a-4c4a-ee89-8e8fc99ac2a2"
      },
      "outputs": [
        {
          "output_type": "execute_result",
          "data": {
            "text/plain": [
              "InvoiceNo      0\n",
              "StockCode      0\n",
              "Description    0\n",
              "Quantity       0\n",
              "InvoiceDate    0\n",
              "UnitPrice      0\n",
              "CustomerID     0\n",
              "Country        0\n",
              "dtype: int64"
            ],
            "text/html": [
              "<div>\n",
              "<style scoped>\n",
              "    .dataframe tbody tr th:only-of-type {\n",
              "        vertical-align: middle;\n",
              "    }\n",
              "\n",
              "    .dataframe tbody tr th {\n",
              "        vertical-align: top;\n",
              "    }\n",
              "\n",
              "    .dataframe thead th {\n",
              "        text-align: right;\n",
              "    }\n",
              "</style>\n",
              "<table border=\"1\" class=\"dataframe\">\n",
              "  <thead>\n",
              "    <tr style=\"text-align: right;\">\n",
              "      <th></th>\n",
              "      <th>0</th>\n",
              "    </tr>\n",
              "  </thead>\n",
              "  <tbody>\n",
              "    <tr>\n",
              "      <th>InvoiceNo</th>\n",
              "      <td>0</td>\n",
              "    </tr>\n",
              "    <tr>\n",
              "      <th>StockCode</th>\n",
              "      <td>0</td>\n",
              "    </tr>\n",
              "    <tr>\n",
              "      <th>Description</th>\n",
              "      <td>0</td>\n",
              "    </tr>\n",
              "    <tr>\n",
              "      <th>Quantity</th>\n",
              "      <td>0</td>\n",
              "    </tr>\n",
              "    <tr>\n",
              "      <th>InvoiceDate</th>\n",
              "      <td>0</td>\n",
              "    </tr>\n",
              "    <tr>\n",
              "      <th>UnitPrice</th>\n",
              "      <td>0</td>\n",
              "    </tr>\n",
              "    <tr>\n",
              "      <th>CustomerID</th>\n",
              "      <td>0</td>\n",
              "    </tr>\n",
              "    <tr>\n",
              "      <th>Country</th>\n",
              "      <td>0</td>\n",
              "    </tr>\n",
              "  </tbody>\n",
              "</table>\n",
              "</div><br><label><b>dtype:</b> int64</label>"
            ]
          },
          "metadata": {},
          "execution_count": 8
        }
      ],
      "source": [
        "df.isnull().sum()"
      ]
    },
    {
      "cell_type": "markdown",
      "metadata": {
        "id": "BGzaRlQ_zEd_"
      },
      "source": [
        "**Globally Popular Products**"
      ]
    },
    {
      "cell_type": "code",
      "execution_count": null,
      "metadata": {
        "colab": {
          "base_uri": "https://localhost:8080/"
        },
        "id": "hT0i7DShzAP_",
        "outputId": "543a872c-41d6-4212-c038-8b23f79814e3",
        "collapsed": true
      },
      "outputs": [
        {
          "output_type": "stream",
          "name": "stdout",
          "text": [
            "\n",
            "The Top 5 Globally Popular Products are: \n",
            "\n",
            "1   PAPER CRAFT , LITTLE BIRDIE\n",
            "2   MEDIUM CERAMIC TOP STORAGE JAR\n",
            "3   WORLD WAR 2 GLIDERS ASSTD DESIGNS\n",
            "4   JUMBO BAG RED RETROSPOT\n",
            "5   WHITE HANGING HEART T-LIGHT HOLDER\n"
          ]
        }
      ],
      "source": [
        "globally_popular = df.groupby('Description')['Quantity'].sum().sort_values(ascending=False).head(5)\n",
        "print(\"\\nThe Top 5 Globally Popular Products are: \\n\")\n",
        "for index, item in enumerate(globally_popular.index):\n",
        "  print((index+1),\" \",item)"
      ]
    },
    {
      "cell_type": "markdown",
      "metadata": {
        "id": "2aunk4Xi_FGA"
      },
      "source": [
        "**Country-Wise Popular Products**"
      ]
    },
    {
      "cell_type": "code",
      "execution_count": null,
      "metadata": {
        "colab": {
          "base_uri": "https://localhost:8080/"
        },
        "id": "qnu5gq1M4ntI",
        "collapsed": true,
        "outputId": "4dd2fb17-c22c-4b56-e19c-faf3a4fc2f9a"
      },
      "outputs": [
        {
          "output_type": "stream",
          "name": "stdout",
          "text": [
            "Enter the Name of the Country: australia\n",
            "\n",
            "The Top 5 Popular Products in australia are: \n",
            "\n",
            "1   MINI PAINT SET VINTAGE\n",
            "2   RABBIT NIGHT LIGHT\n",
            "3   RED  HARMONICA IN BOX\n",
            "4   RED TOADSTOOL LED NIGHT LIGHT\n",
            "5   HOMEMADE JAM SCENTED CANDLES\n"
          ]
        }
      ],
      "source": [
        "country_list = df['Country']\n",
        "country_list = list(set(country_list))\n",
        "country = input(\"Enter the Name of the Country: \")\n",
        "country = country.strip().lower()\n",
        "\n",
        "while True:\n",
        "  if country not in country_list:\n",
        "    print(\"Country Name not found in Dataset!\")\n",
        "    country = input(\"Re-enter the Country Name: \")\n",
        "    country = country.strip().lower()\n",
        "  else:\n",
        "    break\n",
        "\n",
        "df_country =df.groupby('Country')\n",
        "df_country = df_country.get_group(country)\n",
        "country_wise_popular = df_country.groupby('Description')['Quantity'].sum().sort_values(ascending=False).head(5)\n",
        "\n",
        "print(\"\\nThe Top 5 Popular Products in\",country,\"are: \\n\")\n",
        "for index, item in enumerate(country_wise_popular.index):\n",
        "    print((index+1),\" \",item)\n"
      ]
    },
    {
      "cell_type": "markdown",
      "metadata": {
        "id": "aGhjfEf5H4Sw"
      },
      "source": [
        "**Monthly Popular Product**"
      ]
    },
    {
      "cell_type": "code",
      "execution_count": null,
      "metadata": {
        "id": "gFZUMXb1FmO3",
        "colab": {
          "base_uri": "https://localhost:8080/"
        },
        "collapsed": true,
        "outputId": "23a66277-85f7-451a-8cbf-666fff5c8f8b"
      },
      "outputs": [
        {
          "output_type": "stream",
          "name": "stdout",
          "text": [
            "Enter the Month Number: 11\n",
            "\n",
            "The Top 5 Popular Products in Month 11 are: \n",
            "\n",
            "1   RABBIT NIGHT LIGHT\n",
            "2   POPCORN HOLDER\n",
            "3   PAPER CHAIN KIT 50'S CHRISTMAS\n",
            "4   JUMBO BAG RED RETROSPOT\n",
            "5   ASSORTED COLOUR BIRD ORNAMENT\n"
          ]
        }
      ],
      "source": [
        "df['Month'] = df['InvoiceDate'].dt.month\n",
        "\n",
        "month_list = df['Month'].unique().tolist()\n",
        "month = int(input(\"Enter the Month Number: \"))\n",
        "\n",
        "while True:\n",
        "  if month not in month_list:\n",
        "    print(\"Month Number not found in Dataset!\")\n",
        "    month = int(input(\"Re-enter the Month Number: \"))\n",
        "  else:\n",
        "    break\n",
        "\n",
        "df_month =df[df['Month']==month]\n",
        "monthly_popular = df_month.groupby('Description')['Quantity'].sum().sort_values(ascending=False).head(5)\n",
        "\n",
        "print(\"\\nThe Top 5 Popular Products in Month\",month,\"are: \\n\")\n",
        "for index, item in enumerate(monthly_popular.index):\n",
        "    print((index+1),\" \",item)\n"
      ]
    },
    {
      "cell_type": "markdown",
      "source": [
        "**Product Reommendation Based Other Customers**\n",
        "\n",
        "(People who bought this also bought these Products)"
      ],
      "metadata": {
        "id": "QTc2hINFysKE"
      }
    },
    {
      "cell_type": "code",
      "source": [
        "#Create User-Item Interaction Matrix\n",
        "\n",
        "interaction_matrix = df.pivot_table(index='CustomerID', columns='StockCode', values='Quantity', fill_value=0)\n",
        "print(interaction_matrix.head())"
      ],
      "metadata": {
        "id": "eA1Lyf1bsAA7",
        "colab": {
          "base_uri": "https://localhost:8080/"
        },
        "outputId": "cdc6f55b-c786-49a9-a088-b943a62a164c"
      },
      "execution_count": null,
      "outputs": [
        {
          "output_type": "stream",
          "name": "stdout",
          "text": [
            "StockCode   10002  10080  10120  10125  10133  10135  11001  15030  15034  \\\n",
            "CustomerID                                                                  \n",
            "12346.0       0.0    0.0    0.0    0.0    0.0    0.0    0.0    0.0    0.0   \n",
            "12347.0       0.0    0.0    0.0    0.0    0.0    0.0    0.0    0.0    0.0   \n",
            "12348.0       0.0    0.0    0.0    0.0    0.0    0.0    0.0    0.0    0.0   \n",
            "12349.0       0.0    0.0    0.0    0.0    0.0    0.0    0.0    0.0    0.0   \n",
            "12350.0       0.0    0.0    0.0    0.0    0.0    0.0    0.0    0.0    0.0   \n",
            "\n",
            "StockCode   15036  ...  90214V  90214W  90214Y  90214Z  BANK CHARGES   C2  \\\n",
            "CustomerID         ...                                                      \n",
            "12346.0       0.0  ...     0.0     0.0     0.0     0.0           0.0  0.0   \n",
            "12347.0       0.0  ...     0.0     0.0     0.0     0.0           0.0  0.0   \n",
            "12348.0       0.0  ...     0.0     0.0     0.0     0.0           0.0  0.0   \n",
            "12349.0       0.0  ...     0.0     0.0     0.0     0.0           0.0  0.0   \n",
            "12350.0       0.0  ...     0.0     0.0     0.0     0.0           0.0  0.0   \n",
            "\n",
            "StockCode   DOT    M  PADS  POST  \n",
            "CustomerID                        \n",
            "12346.0     0.0  0.0   0.0  0.00  \n",
            "12347.0     0.0  0.0   0.0  0.00  \n",
            "12348.0     0.0  0.0   0.0  2.25  \n",
            "12349.0     0.0  0.0   0.0  1.00  \n",
            "12350.0     0.0  0.0   0.0  1.00  \n",
            "\n",
            "[5 rows x 3665 columns]\n"
          ]
        }
      ]
    },
    {
      "cell_type": "code",
      "source": [
        "#Calculate cosine similarity\n",
        "from sklearn.metrics.pairwise import cosine_similarity\n",
        "\n",
        "cosine_sim = cosine_similarity(interaction_matrix.T)\n",
        "cosine_sim_df = pd.DataFrame(cosine_sim, index=interaction_matrix.columns, columns=interaction_matrix.columns)"
      ],
      "metadata": {
        "id": "xIRk_XnqtuBy"
      },
      "execution_count": null,
      "outputs": []
    },
    {
      "cell_type": "code",
      "source": [
        "#Make Recommendations\n",
        "\n",
        "def get_recommendations(customer_id, top_n=5):\n",
        "    # Get the items purchased by the customer\n",
        "    purchased_items = interaction_matrix.loc[customer_id]\n",
        "\n",
        "    # Filter items that the customer has purchased\n",
        "    purchased_items = purchased_items[purchased_items > 0].index.tolist()\n",
        "\n",
        "    # If no items are purchased, return an empty list\n",
        "    if not purchased_items:\n",
        "        return []\n",
        "\n",
        "    # Create a Series to hold recommendation scores\n",
        "    recommendation_scores = pd.Series()\n",
        "\n",
        "    # Calculate scores based on purchased items\n",
        "    for item in purchased_items:\n",
        "        # Get the similarity scores for the purchased item\n",
        "        similar_items = cosine_sim_df[item]\n",
        "\n",
        "        # Update recommendation scores (ignore items already purchased)\n",
        "        recommendation_scores = recommendation_scores.add(similar_items, fill_value=0)\n",
        "\n",
        "    # Remove items already purchased from recommendations\n",
        "    recommendation_scores = recommendation_scores.drop(purchased_items, errors='ignore')\n",
        "\n",
        "    # Convert scores to numeric and drop NaN values\n",
        "    recommendation_scores = pd.to_numeric(recommendation_scores, errors='coerce').dropna()\n",
        "\n",
        "    # Get the top N recommendations\n",
        "    top_recommendations = recommendation_scores.nlargest(top_n)\n",
        "\n",
        "    # Map StockCode to Description\n",
        "    stock_code_to_description = df.set_index('StockCode')['Description'].to_dict()\n",
        "\n",
        "    # Create a DataFrame for the top recommendations with product names\n",
        "    recommendations_with_names = pd.DataFrame({\n",
        "        'ProductName': [stock_code_to_description[code] for code in top_recommendations.index],\n",
        "        'Score': top_recommendations.values\n",
        "    })\n",
        "\n",
        "    return recommendations_with_names\n",
        "\n",
        "# Example usage for customer A (replace with actual CustomerID)\n",
        "customer_id = int(input(\"Enter The Customer ID: \"))\n",
        "print(\"The Top 5 Recommended Products for CustomerID\", customer_id,\"and their Recommendation Scores are:\\n\\n\")\n",
        "customer_a_recommendations = get_recommendations(customer_id)  # Replace 17850 with an actual CustomerID\n",
        "print(customer_a_recommendations.to_string(index=False))\n"
      ],
      "metadata": {
        "colab": {
          "base_uri": "https://localhost:8080/"
        },
        "id": "VxoPQ-ufuqVx",
        "outputId": "597f5151-30c8-4db5-dcf4-b294c1655d11"
      },
      "execution_count": null,
      "outputs": [
        {
          "output_type": "stream",
          "name": "stdout",
          "text": [
            "Enter The Customer ID: 17850\n",
            "The Top 5 Recommended Products for CustomerID 17850 and their Recommendation Scores are:\n",
            "\n",
            "\n",
            "                       ProductName    Score\n",
            " WOOD BLACK BOARD ANT WHITE FINISH 3.588077\n",
            "     DOORMAT KEEP CALM AND COME IN 3.544371\n",
            "             DOORMAT RED RETROSPOT 3.487943\n",
            "DOORMAT FANCY FONT HOME SWEET HOME 3.400922\n",
            "  VINTAGE CREAM CAT FOOD CONTAINER 3.330976\n"
          ]
        }
      ]
    },
    {
      "cell_type": "code",
      "source": [],
      "metadata": {
        "id": "WCQ0DyaTvxJp"
      },
      "execution_count": null,
      "outputs": []
    }
  ],
  "metadata": {
    "colab": {
      "provenance": []
    },
    "kernelspec": {
      "display_name": "Python 3",
      "name": "python3"
    },
    "language_info": {
      "name": "python"
    }
  },
  "nbformat": 4,
  "nbformat_minor": 0
}